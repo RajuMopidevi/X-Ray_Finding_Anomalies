{
  "cells": [
    {
      "cell_type": "markdown",
      "metadata": {
        "id": "view-in-github",
        "colab_type": "text"
      },
      "source": [
        "<a href=\"https://colab.research.google.com/github/RajuMopidevi/X-Ray_Finding_Anomalies/blob/main/Working_With_Chest_XRay_Images_.ipynb\" target=\"_parent\"><img src=\"https://colab.research.google.com/assets/colab-badge.svg\" alt=\"Open In Colab\"/></a>"
      ]
    },
    {
      "cell_type": "markdown",
      "metadata": {
        "id": "eaDnfwP7e4sk"
      },
      "source": [
        "# Analysis of Chest X-Ray images"
      ]
    },
    {
      "cell_type": "markdown",
      "metadata": {
        "id": "DcFcGYqge4su"
      },
      "source": [
        "Neural networks have revolutionised image processing in several different domains. Among these is the field of medical imaging. In the following notebook, we will get some hands-on experience in working with Chest X-Ray (CXR) images.\n",
        "\n",
        "The objective of this exercise is to identify images where an \"effusion\" is present. This is a classification problem, where we will be dealing with two classes - 'effusion' and 'nofinding'. Here, the latter represents a \"normal\" X-ray image.\n",
        "\n",
        "This same methodology can be used to spot various other illnesses that can be detected via a chest x-ray. For the scope of this demonstration, we will specifically deal with \"effusion\"."
      ]
    },
    {
      "cell_type": "markdown",
      "metadata": {
        "id": "MwidjB4fe4s4"
      },
      "source": [
        "## 1. Data Pre-processing"
      ]
    },
    {
      "cell_type": "markdown",
      "metadata": {
        "id": "Y6PoLsxke4s-"
      },
      "source": [
        "Our data is in the form of grayscale (black and white) images of chest x-rays. To perform our classification task effectively, we need to perform some pre-processing of the data.\n",
        "\n",
        "First, we load all the relevant libraries."
      ]
    },
    {
      "cell_type": "code",
      "execution_count": 1,
      "metadata": {
        "id": "v6287K29e4tD"
      },
      "outputs": [],
      "source": [
        "from skimage import io\n",
        "import os\n",
        "import glob\n",
        "import numpy as np\n",
        "import matplotlib.pyplot as plt\n",
        "\n",
        "import warnings\n",
        "warnings.simplefilter('ignore')"
      ]
    },
    {
      "cell_type": "code",
      "source": [
        "%%bash\n",
        "git clone https://github.com/RajuMopidevi/X-Ray_Finding_Anomalies"
      ],
      "metadata": {
        "colab": {
          "base_uri": "https://localhost:8080/"
        },
        "id": "FOFuVaUjiEm7",
        "outputId": "7dfdf307-1107-4854-fb83-e2f4447898d4"
      },
      "execution_count": 2,
      "outputs": [
        {
          "output_type": "stream",
          "name": "stderr",
          "text": [
            "Cloning into 'X-Ray_Finding_Anomalies'...\n",
            "Checking out files:  71% (1584/2220)   \rChecking out files:  72% (1599/2220)   \rChecking out files:  73% (1621/2220)   \rChecking out files:  74% (1643/2220)   \rChecking out files:  75% (1665/2220)   \rChecking out files:  76% (1688/2220)   \rChecking out files:  77% (1710/2220)   \rChecking out files:  78% (1732/2220)   \rChecking out files:  79% (1754/2220)   \rChecking out files:  80% (1776/2220)   \rChecking out files:  81% (1799/2220)   \rChecking out files:  82% (1821/2220)   \rChecking out files:  83% (1843/2220)   \rChecking out files:  84% (1865/2220)   \rChecking out files:  85% (1887/2220)   \rChecking out files:  86% (1910/2220)   \rChecking out files:  87% (1932/2220)   \rChecking out files:  88% (1954/2220)   \rChecking out files:  89% (1976/2220)   \rChecking out files:  90% (1998/2220)   \rChecking out files:  91% (2021/2220)   \rChecking out files:  92% (2043/2220)   \rChecking out files:  93% (2065/2220)   \rChecking out files:  94% (2087/2220)   \rChecking out files:  94% (2107/2220)   \rChecking out files:  95% (2109/2220)   \rChecking out files:  96% (2132/2220)   \rChecking out files:  97% (2154/2220)   \rChecking out files:  98% (2176/2220)   \rChecking out files:  99% (2198/2220)   \rChecking out files: 100% (2220/2220)   \rChecking out files: 100% (2220/2220), done.\n"
          ]
        }
      ]
    },
    {
      "cell_type": "code",
      "source": [
        "%cd X-Ray_Finding_Anomalies\n",
        "%ls -ltr\n",
        "%cp resnet.py ."
      ],
      "metadata": {
        "colab": {
          "base_uri": "https://localhost:8080/"
        },
        "id": "f0jAfdr_ibaI",
        "outputId": "ede75e76-c277-46f3-c2fc-0c33a1ce75e7"
      },
      "execution_count": 3,
      "outputs": [
        {
          "output_type": "stream",
          "name": "stdout",
          "text": [
            "/content/X-Ray_Finding_Anomalies\n",
            "total 232\n",
            "drwxr-xr-x 5 root root   4096 Oct 24 05:53 \u001b[0m\u001b[01;34mCXR_data_UpGrad\u001b[0m/\n",
            "-rw-r--r-- 1 root root     25 Oct 24 05:53 README.md\n",
            "-rw-r--r-- 1 root root  35149 Oct 24 05:53 LICENSE\n",
            "-rw-r--r-- 1 root root 176793 Oct 24 05:53 Working_With_Chest_XRay_Images_.ipynb\n",
            "-rw-r--r-- 1 root root   9192 Oct 24 05:53 resnet.py\n",
            "cp: 'resnet.py' and './resnet.py' are the same file\n"
          ]
        }
      ]
    },
    {
      "cell_type": "code",
      "execution_count": 4,
      "metadata": {
        "id": "BhHELrNQe4tJ"
      },
      "outputs": [],
      "source": [
        "DATASET_PATH = '/content/X-Ray_Finding_Anomalies/CXR_data_UpGrad'\n",
        "\n",
        "# There are two classes of images that we will deal with\n",
        "disease_cls = ['effusion', 'nofinding']"
      ]
    },
    {
      "cell_type": "markdown",
      "metadata": {
        "id": "qKLMGQfae4tN"
      },
      "source": [
        "Next, we read the \"effusion\" and \"nofinding\" images."
      ]
    },
    {
      "cell_type": "code",
      "execution_count": 5,
      "metadata": {
        "colab": {
          "base_uri": "https://localhost:8080/",
          "height": 286
        },
        "id": "yLF5agwVe4tQ",
        "outputId": "79237788-9f36-468e-b614-2cd6731eca36"
      },
      "outputs": [
        {
          "output_type": "execute_result",
          "data": {
            "text/plain": [
              "<matplotlib.image.AxesImage at 0x7f04f7cab5d0>"
            ]
          },
          "metadata": {},
          "execution_count": 5
        },
        {
          "output_type": "display_data",
          "data": {
            "text/plain": [
              "<Figure size 720x288 with 2 Axes>"
            ],
            "image/png": "[encoded data removed]"
          },
          "metadata": {
            "needs_background": "light"
          }
        }
      ],
      "source": [
        "effusion_path = os.path.join(DATASET_PATH, disease_cls[0], '*')\n",
        "effusion = glob.glob(effusion_path)\n",
        "effusion = io.imread(effusion[0])\n",
        "\n",
        "normal_path = os.path.join(DATASET_PATH, disease_cls[1], '*')\n",
        "normal = glob.glob(normal_path)\n",
        "normal = io.imread(normal[0])\n",
        "\n",
        "f, axes = plt.subplots(1, 2, sharey=True)\n",
        "f.set_figwidth(10)\n",
        "    \n",
        "axes[0].imshow(effusion, cmap='gray')\n",
        "axes[1].imshow(normal, cmap='gray')"
      ]
    },
    {
      "cell_type": "code",
      "execution_count": 6,
      "metadata": {
        "colab": {
          "base_uri": "https://localhost:8080/"
        },
        "id": "nTveH3uLe4tW",
        "outputId": "b4094a71-8bd5-4601-8467-a79397094ba9"
      },
      "outputs": [
        {
          "output_type": "execute_result",
          "data": {
            "text/plain": [
              "(1024, 1024)"
            ]
          },
          "metadata": {},
          "execution_count": 6
        }
      ],
      "source": [
        "effusion.shape"
      ]
    },
    {
      "cell_type": "code",
      "execution_count": 7,
      "metadata": {
        "colab": {
          "base_uri": "https://localhost:8080/"
        },
        "id": "x_uuflgae4te",
        "outputId": "263c60b9-6bce-4d83-b6fe-3adeb1516623"
      },
      "outputs": [
        {
          "output_type": "execute_result",
          "data": {
            "text/plain": [
              "(1024, 1024)"
            ]
          },
          "metadata": {},
          "execution_count": 7
        }
      ],
      "source": [
        "normal.shape"
      ]
    },
    {
      "cell_type": "markdown",
      "metadata": {
        "id": "tbEfNj9He4th"
      },
      "source": [
        "### Data Augmentation ###\n",
        "\n",
        "Now that we have read the images, the next step is data augmentation. We use the concept of a \"data generator\" that you learnt in the last section."
      ]
    },
    {
      "cell_type": "code",
      "execution_count": 8,
      "metadata": {
        "id": "ozsigAhYe4tl"
      },
      "outputs": [],
      "source": [
        "from skimage.transform import rescale\n",
        "from tensorflow.keras.preprocessing.image import ImageDataGenerator\n",
        "\n",
        "datagen = ImageDataGenerator(\n",
        "    featurewise_center=True,\n",
        "    featurewise_std_normalization=True,\n",
        "    rotation_range=10,\n",
        "    width_shift_range=0,\n",
        "    height_shift_range=0,\n",
        "    vertical_flip=False,)\n",
        "\n",
        "def preprocess_img(img, mode):\n",
        "    img = (img - img.min())/(img.max() - img.min())\n",
        "    img = rescale(img, 0.25, multichannel=True, mode='constant')\n",
        "    \n",
        "    if mode == 'train':\n",
        "        if np.random.randn() > 0:\n",
        "            img = datagen.random_transform(img)\n",
        "    return img"
      ]
    },
    {
      "cell_type": "markdown",
      "metadata": {
        "id": "sD_0Q8W1e4tn"
      },
      "source": [
        "## 2. Model building"
      ]
    },
    {
      "cell_type": "markdown",
      "metadata": {
        "id": "vtd5Oukfe4tp"
      },
      "source": [
        "We will be using a Resnet in this (you learnt about Resnets previously). \n",
        "\n",
        "For this to work, the script that defines the resnet model (resnet.py) should reside in the same folder as this notebook"
      ]
    },
    {
      "cell_type": "code",
      "source": [
        "%cd /content/X-Ray_Finding_Anomalies/"
      ],
      "metadata": {
        "colab": {
          "base_uri": "https://localhost:8080/"
        },
        "id": "uC8FHduniwo8",
        "outputId": "af1048b1-e8e4-4543-fe34-638b04d995ec"
      },
      "execution_count": 9,
      "outputs": [
        {
          "output_type": "stream",
          "name": "stdout",
          "text": [
            "/content/X-Ray_Finding_Anomalies\n"
          ]
        }
      ]
    },
    {
      "cell_type": "code",
      "execution_count": 10,
      "metadata": {
        "id": "k0pexCXte4tq"
      },
      "outputs": [],
      "source": [
        "import resnet\n",
        "\n",
        "img_channels = 1\n",
        "img_rows = 256\n",
        "img_cols = 256\n",
        "\n",
        "nb_classes = 2"
      ]
    },
    {
      "cell_type": "code",
      "execution_count": 11,
      "metadata": {
        "id": "zaplewtse4tt"
      },
      "outputs": [],
      "source": [
        "import numpy as np\n",
        "import tensorflow as tf\n",
        "\n",
        "class AugmentedDataGenerator(tf.keras.utils.Sequence):\n",
        "    'Generates data for Keras'\n",
        "    def __init__(self, mode='train', ablation=None, disease_cls = ['nofinding', 'effusion'], \n",
        "                 batch_size=32, dim=(256, 256), n_channels=1, shuffle=True):\n",
        "        'Initialization'\n",
        "        self.dim = dim\n",
        "        self.batch_size = batch_size\n",
        "        self.labels = {}\n",
        "        self.list_IDs = []\n",
        "        self.mode = mode\n",
        "        \n",
        "        for i, cls in enumerate(disease_cls):\n",
        "            paths = glob.glob(os.path.join(DATASET_PATH, cls, '*'))\n",
        "            brk_point = int(len(paths)*0.8)\n",
        "            if self.mode == 'train':\n",
        "                paths = paths[:brk_point]\n",
        "            else:\n",
        "                paths = paths[brk_point:]\n",
        "            if ablation is not None:\n",
        "                paths = paths[:int(len(paths)*ablation/100)]\n",
        "            self.list_IDs += paths\n",
        "            self.labels.update({p:i for p in paths})\n",
        "        \n",
        "            \n",
        "        self.n_channels = n_channels\n",
        "        self.n_classes = len(disease_cls)\n",
        "        self.shuffle = shuffle\n",
        "        self.on_epoch_end()\n",
        "\n",
        "    def __len__(self):\n",
        "        'Denotes the number of batches per epoch'\n",
        "        return int(np.floor(len(self.list_IDs) / self.batch_size))\n",
        "\n",
        "    def __getitem__(self, index):\n",
        "        'Generate one batch of data'\n",
        "\n",
        "        indexes = self.indexes[index*self.batch_size:(index+1)*self.batch_size]\n",
        "        list_IDs_temp = [self.list_IDs[k] for k in indexes]\n",
        "\n",
        "        X, y = self.__data_generation(list_IDs_temp)\n",
        "\n",
        "        return X, y\n",
        "\n",
        "    def on_epoch_end(self):\n",
        "        'Updates indexes after each epoch'\n",
        "        self.indexes = np.arange(len(self.list_IDs))\n",
        "        if self.shuffle == True:\n",
        "            np.random.shuffle(self.indexes)\n",
        "\n",
        "    def __data_generation(self, list_IDs_temp):\n",
        "        'Generates data containing batch_size samples' # X : (n_samples, *dim, n_channels)\n",
        "        # Initialization\n",
        "        X = np.empty((self.batch_size, *self.dim, self.n_channels))\n",
        "        y = np.empty((self.batch_size), dtype=int)\n",
        "        \n",
        "        delete_rows = []\n",
        "\n",
        "        # Generate data\n",
        "        for i, ID in enumerate(list_IDs_temp):\n",
        "            img = io.imread(ID)\n",
        "            img = img[:, :, np.newaxis]\n",
        "            if img.shape == (1024, 1024,1):\n",
        "                img = preprocess_img(img, self.mode)\n",
        "                X[i,] = img\n",
        "                y[i] = self.labels[ID]\n",
        "            else:\n",
        "                delete_rows.append(i)\n",
        "                continue\n",
        "                \n",
        "        X = np.delete(X, delete_rows, axis=0)\n",
        "        y = np.delete(y, delete_rows, axis=0)\n",
        "        \n",
        "        return X, tf.keras.utils.to_categorical(y, num_classes=self.n_classes)"
      ]
    },
    {
      "cell_type": "markdown",
      "metadata": {
        "id": "cB0NhyPce4tx"
      },
      "source": [
        "## 3. Ablation Run"
      ]
    },
    {
      "cell_type": "markdown",
      "metadata": {
        "id": "66LkcgXde4t0"
      },
      "source": [
        "In the previous notebook, you learnt about Ablation. Briefly, an ablation run is when you systematically modify certain parts of the input, in order to observe the equivalent change in the input.\n",
        "\n",
        "For the following section, we'll be using the Data Generator concept that you previously worked on."
      ]
    },
    {
      "cell_type": "code",
      "execution_count": 12,
      "metadata": {
        "colab": {
          "base_uri": "https://localhost:8080/"
        },
        "id": "f9Mg7zibe4t2",
        "outputId": "bcec3834-26a4-4c89-b1e1-91cc743c9c18"
      },
      "outputs": [
        {
          "output_type": "stream",
          "name": "stdout",
          "text": [
            "1/1 [==============================] - 19s 19s/step - loss: 1.6929 - accuracy: 0.4000\n"
          ]
        },
        {
          "output_type": "execute_result",
          "data": {
            "text/plain": [
              "<keras.callbacks.History at 0x7f048befb110>"
            ]
          },
          "metadata": {},
          "execution_count": 12
        }
      ],
      "source": [
        "model = resnet.ResnetBuilder.build_resnet_18((img_channels, img_rows, img_cols), nb_classes)\n",
        "model.compile(loss='categorical_crossentropy',optimizer='SGD',\n",
        "              metrics=['accuracy'])\n",
        "training_generator = AugmentedDataGenerator('train', ablation=5)\n",
        "validation_generator = AugmentedDataGenerator('val', ablation=5)\n",
        "\n",
        "model.fit(training_generator, epochs=1, validation_data=validation_generator)"
      ]
    },
    {
      "cell_type": "code",
      "execution_count": 13,
      "metadata": {
        "colab": {
          "base_uri": "https://localhost:8080/"
        },
        "id": "h2l-PPpce4t5",
        "outputId": "9ac25ad2-35ef-4563-a882-32c628a49f64"
      },
      "outputs": [
        {
          "output_type": "stream",
          "name": "stdout",
          "text": [
            "Epoch 1/5\n",
            "1/1 [==============================] - 17s 17s/step - loss: 1.4212 - accuracy: 0.8667\n",
            "Epoch 2/5\n",
            "1/1 [==============================] - 15s 15s/step - loss: 1.3236 - accuracy: 0.9333\n",
            "Epoch 3/5\n",
            "1/1 [==============================] - 15s 15s/step - loss: 1.3570 - accuracy: 0.8667\n",
            "Epoch 4/5\n",
            "1/1 [==============================] - 14s 14s/step - loss: 1.2612 - accuracy: 0.9310\n",
            "Epoch 5/5\n",
            "1/1 [==============================] - 14s 14s/step - loss: 1.2940 - accuracy: 0.9000\n"
          ]
        },
        {
          "output_type": "execute_result",
          "data": {
            "text/plain": [
              "<keras.callbacks.History at 0x7f0481cebcd0>"
            ]
          },
          "metadata": {},
          "execution_count": 13
        }
      ],
      "source": [
        "model = resnet.ResnetBuilder.build_resnet_18((img_channels, img_rows, img_cols), nb_classes)\n",
        "model.compile(loss='categorical_crossentropy',optimizer='SGD',\n",
        "              metrics=['accuracy'])\n",
        "\n",
        "training_generator = AugmentedDataGenerator('train', ablation=5)\n",
        "validation_generator = AugmentedDataGenerator('val', ablation=5)\n",
        "\n",
        "model.fit(training_generator, epochs=5, validation_data=None)"
      ]
    },
    {
      "cell_type": "code",
      "execution_count": 14,
      "metadata": {
        "id": "NUApNKxKe4t8"
      },
      "outputs": [],
      "source": [
        "from sklearn.metrics import roc_auc_score\n",
        "from tensorflow.keras import optimizers\n",
        "from tensorflow.keras.callbacks import *\n",
        "\n",
        "class roc_callback(Callback):\n",
        "    \n",
        "    def on_train_begin(self, logs={}):\n",
        "        logs['val_auc'] = 0\n",
        "\n",
        "    def on_epoch_end(self, epoch, logs={}):\n",
        "        y_p = []\n",
        "        y_v = []\n",
        "        for i in range(len(validation_generator)):\n",
        "            x_val, y_val = validation_generator[i]\n",
        "            y_pred = self.model.predict(x_val)\n",
        "            y_p.append(y_pred)\n",
        "            y_v.append(y_val)\n",
        "        y_p = np.concatenate(y_p)\n",
        "        y_v = np.concatenate(y_v)\n",
        "        roc_auc = roc_auc_score(y_v, y_p)\n",
        "        print ('\\nVal AUC for epoch{}: {}'.format(epoch, roc_auc))\n",
        "        logs['val_auc'] = roc_auc"
      ]
    },
    {
      "cell_type": "code",
      "execution_count": 15,
      "metadata": {
        "colab": {
          "base_uri": "https://localhost:8080/"
        },
        "id": "5FjhAwFne4t-",
        "outputId": "5785826f-8fa5-4a60-d5f3-32c6a72facba"
      },
      "outputs": [
        {
          "output_type": "stream",
          "name": "stdout",
          "text": [
            "Epoch 1/5\n",
            "1/1 [==============================] - 3s 3s/step\n",
            "\n",
            "Val AUC for epoch0: 0.5524691358024691\n",
            "5/5 [==============================] - 90s 18s/step - loss: 1.3115 - accuracy: 0.9091 - val_loss: 4.3709 - val_accuracy: 0.8667 - val_auc: 0.5525\n",
            "Epoch 2/5\n",
            "1/1 [==============================] - 3s 3s/step\n",
            "\n",
            "Val AUC for epoch1: 0.6726190476190477\n",
            "5/5 [==============================] - 86s 17s/step - loss: 1.2731 - accuracy: 0.9103 - val_loss: 2.7999 - val_accuracy: 0.9000 - val_auc: 0.6726\n",
            "Epoch 3/5\n",
            "1/1 [==============================] - 3s 3s/step\n",
            "\n",
            "Val AUC for epoch2: 0.7191358024691358\n",
            "5/5 [==============================] - 87s 18s/step - loss: 1.2911 - accuracy: 0.8961 - val_loss: 2.2037 - val_accuracy: 0.9032 - val_auc: 0.7191\n",
            "Epoch 4/5\n",
            "1/1 [==============================] - 3s 3s/step\n",
            "\n",
            "Val AUC for epoch3: 0.5535714285714286\n",
            "5/5 [==============================] - 85s 17s/step - loss: 1.2762 - accuracy: 0.9026 - val_loss: 1.9797 - val_accuracy: 0.9000 - val_auc: 0.5536\n",
            "Epoch 5/5\n",
            "1/1 [==============================] - 3s 3s/step\n",
            "\n",
            "Val AUC for epoch4: 0.7403846153846154\n",
            "5/5 [==============================] - 82s 16s/step - loss: 1.2733 - accuracy: 0.9032 - val_loss: 1.5298 - val_accuracy: 0.9333 - val_auc: 0.7404\n"
          ]
        },
        {
          "output_type": "execute_result",
          "data": {
            "text/plain": [
              "<keras.callbacks.History at 0x7f0480613f50>"
            ]
          },
          "metadata": {},
          "execution_count": 15
        }
      ],
      "source": [
        "model = resnet.ResnetBuilder.build_resnet_18((img_channels, img_rows, img_cols), nb_classes)\n",
        "model.compile(loss='categorical_crossentropy',optimizer='SGD',\n",
        "              metrics=['accuracy'])\n",
        "\n",
        "training_generator = AugmentedDataGenerator('train', ablation=20)\n",
        "validation_generator = AugmentedDataGenerator('val', ablation=20)\n",
        "\n",
        "auc_logger = roc_callback()\n",
        "\n",
        "model.fit(training_generator, epochs=5, validation_data=validation_generator, callbacks=[auc_logger])"
      ]
    },
    {
      "cell_type": "code",
      "execution_count": 16,
      "metadata": {
        "id": "kQs0teVWe4t_"
      },
      "outputs": [],
      "source": [
        "from functools import partial\n",
        "import tensorflow.keras.backend as K\n",
        "from itertools import product\n",
        "\n",
        "def w_categorical_crossentropy(y_true, y_pred, weights):\n",
        "    nb_cl = len(weights)\n",
        "    final_mask = K.zeros_like(y_pred[:, 0])\n",
        "    y_pred_max = K.max(y_pred, axis=1)\n",
        "    y_pred_max = K.reshape(y_pred_max, (K.shape(y_pred)[0], 1))\n",
        "    y_pred_max_mat = K.cast(K.equal(y_pred, y_pred_max), K.floatx())\n",
        "    for c_p, c_t in product(range(nb_cl), range(nb_cl)):\n",
        "        final_mask += (weights[c_t, c_p] * y_pred_max_mat[:, c_p] * y_true[:, c_t])\n",
        "    cross_ent = K.categorical_crossentropy(y_true, y_pred, from_logits=False)\n",
        "    return cross_ent * final_mask\n",
        "\n",
        "bin_weights = np.ones((2,2))\n",
        "bin_weights[0, 1] = 5\n",
        "bin_weights[1, 0] = 5\n",
        "ncce = partial(w_categorical_crossentropy, weights=bin_weights)\n",
        "ncce.__name__ ='w_categorical_crossentropy'"
      ]
    },
    {
      "cell_type": "code",
      "execution_count": 17,
      "metadata": {
        "colab": {
          "base_uri": "https://localhost:8080/"
        },
        "id": "JMXIyznae4uB",
        "outputId": "5adb2d02-73b0-4e20-fc85-5f7921445d08"
      },
      "outputs": [
        {
          "output_type": "stream",
          "name": "stdout",
          "text": [
            "1/1 [==============================] - 18s 18s/step - loss: 3.0102 - accuracy: 0.5333\n"
          ]
        },
        {
          "output_type": "execute_result",
          "data": {
            "text/plain": [
              "<keras.callbacks.History at 0x7f047d705710>"
            ]
          },
          "metadata": {},
          "execution_count": 17
        }
      ],
      "source": [
        "model = resnet.ResnetBuilder.build_resnet_18((img_channels, img_rows, img_cols), nb_classes)\n",
        "model.compile(loss=ncce, optimizer='SGD',\n",
        "              metrics=['accuracy'])\n",
        "\n",
        "training_generator = AugmentedDataGenerator('train', ablation=5)\n",
        "validation_generator = AugmentedDataGenerator('val', ablation=5)\n",
        "\n",
        "model.fit(training_generator, epochs=1, validation_data=None)"
      ]
    },
    {
      "cell_type": "markdown",
      "metadata": {
        "id": "Uu8jVdOae4uD"
      },
      "source": [
        "## 4. Final Run"
      ]
    },
    {
      "cell_type": "markdown",
      "metadata": {
        "id": "J_kgG4Xne4uF"
      },
      "source": [
        "After deeply examining our data and building some preliminary models, we are finally ready to build a model that will perform our prediction task."
      ]
    },
    {
      "cell_type": "code",
      "execution_count": 18,
      "metadata": {
        "id": "OewttJs1e4uG"
      },
      "outputs": [],
      "source": [
        "class DecayLR(tf.keras.callbacks.Callback):\n",
        "    def __init__(self, base_lr=0.01, decay_epoch=1):\n",
        "        super(DecayLR, self).__init__()\n",
        "        self.base_lr = base_lr\n",
        "        self.decay_epoch = decay_epoch \n",
        "        self.lr_history = []\n",
        "        \n",
        "    def on_train_begin(self, logs={}):\n",
        "        K.set_value(self.model.optimizer.lr, self.base_lr)\n",
        "\n",
        "    def on_epoch_end(self, epoch, logs={}):\n",
        "        new_lr = self.base_lr * (0.5 ** (epoch // self.decay_epoch))\n",
        "        self.lr_history.append(K.get_value(self.model.optimizer.lr))\n",
        "        K.set_value(self.model.optimizer.lr, new_lr)"
      ]
    },
    {
      "cell_type": "code",
      "execution_count": 19,
      "metadata": {
        "id": "53IWI2tKe4uH"
      },
      "outputs": [],
      "source": [
        "!mkdir models"
      ]
    },
    {
      "cell_type": "code",
      "execution_count": 20,
      "metadata": {
        "colab": {
          "base_uri": "https://localhost:8080/"
        },
        "id": "Jpk-ko1le4uI",
        "outputId": "598d5aa8-dd23-4239-ec3a-e0bf512535fd"
      },
      "outputs": [
        {
          "output_type": "stream",
          "name": "stdout",
          "text": [
            "Epoch 1/10\n",
            "1/1 [==============================] - 3s 3s/step\n",
            "1/1 [==============================] - 3s 3s/step\n",
            "1/1 [==============================] - 3s 3s/step\n",
            "\n",
            "Val AUC for epoch0: 0.5632440476190477\n",
            "\n",
            "Epoch 1: val_auc improved from -inf to 0.56324, saving model to models/best_model.hdf5\n",
            "13/13 [==============================] - 234s 18s/step - loss: 2.3713 - accuracy: 0.4360 - auc: 0.4379 - val_loss: 14.8322 - val_accuracy: 0.1087 - val_auc: 0.5632\n",
            "Epoch 2/10\n",
            "1/1 [==============================] - 3s 3s/step\n",
            "1/1 [==============================] - 3s 3s/step\n",
            "1/1 [==============================] - 3s 3s/step\n",
            "\n",
            "Val AUC for epoch1: 0.6428571428571428\n",
            "\n",
            "Epoch 2: val_auc improved from 0.56324 to 0.64286, saving model to models/best_model.hdf5\n",
            "13/13 [==============================] - 227s 17s/step - loss: 2.2302 - accuracy: 0.4876 - auc: 0.5127 - val_loss: 7.4810 - val_accuracy: 0.0870 - val_auc: 0.6429\n",
            "Epoch 3/10\n",
            "1/1 [==============================] - 3s 3s/step\n",
            "1/1 [==============================] - 3s 3s/step\n",
            "1/1 [==============================] - 3s 3s/step\n",
            "\n",
            "Val AUC for epoch2: 0.5622895622895623\n",
            "\n",
            "Epoch 3: val_auc did not improve from 0.64286\n",
            "13/13 [==============================] - 228s 17s/step - loss: 2.1520 - accuracy: 0.6427 - auc: 0.6699 - val_loss: 5.0067 - val_accuracy: 0.0968 - val_auc: 0.5623\n",
            "Epoch 4/10\n",
            "1/1 [==============================] - 3s 3s/step\n",
            "1/1 [==============================] - 3s 3s/step\n",
            "1/1 [==============================] - 3s 3s/step\n",
            "\n",
            "Val AUC for epoch3: 0.48891352549889133\n",
            "\n",
            "Epoch 4: val_auc did not improve from 0.64286\n",
            "13/13 [==============================] - 236s 18s/step - loss: 2.0366 - accuracy: 0.6049 - auc: 0.6520 - val_loss: 3.4270 - val_accuracy: 0.1196 - val_auc: 0.4889\n",
            "Epoch 5/10\n",
            "1/1 [==============================] - 3s 3s/step\n",
            "1/1 [==============================] - 3s 3s/step\n",
            "1/1 [==============================] - 3s 3s/step\n",
            "\n",
            "Val AUC for epoch4: 0.4731707317073171\n",
            "\n",
            "Epoch 5: val_auc did not improve from 0.64286\n",
            "13/13 [==============================] - 232s 18s/step - loss: 2.0970 - accuracy: 0.7178 - auc: 0.7725 - val_loss: 3.2088 - val_accuracy: 0.1183 - val_auc: 0.4732\n",
            "Epoch 6/10\n",
            "1/1 [==============================] - 3s 3s/step\n",
            "1/1 [==============================] - 3s 3s/step\n",
            "1/1 [==============================] - 3s 3s/step\n",
            "\n",
            "Val AUC for epoch5: 0.4523281596452329\n",
            "\n",
            "Epoch 6: val_auc did not improve from 0.64286\n",
            "13/13 [==============================] - 224s 17s/step - loss: 2.0475 - accuracy: 0.6642 - auc: 0.7315 - val_loss: 3.0364 - val_accuracy: 0.1087 - val_auc: 0.4523\n",
            "Epoch 7/10\n",
            "1/1 [==============================] - 3s 3s/step\n",
            "1/1 [==============================] - 3s 3s/step\n",
            "1/1 [==============================] - 3s 3s/step\n",
            "\n",
            "Val AUC for epoch6: 0.4158536585365854\n",
            "\n",
            "Epoch 7: val_auc did not improve from 0.64286\n",
            "13/13 [==============================] - 215s 16s/step - loss: 2.0612 - accuracy: 0.6931 - auc: 0.7669 - val_loss: 2.9593 - val_accuracy: 0.1183 - val_auc: 0.4159\n",
            "Epoch 8/10\n",
            "1/1 [==============================] - 3s 3s/step\n",
            "1/1 [==============================] - 3s 3s/step\n",
            "1/1 [==============================] - 3s 3s/step\n",
            "\n",
            "Val AUC for epoch7: 0.42704149933065594\n",
            "\n",
            "Epoch 8: val_auc did not improve from 0.64286\n",
            "13/13 [==============================] - 211s 16s/step - loss: 2.0721 - accuracy: 0.7079 - auc: 0.7694 - val_loss: 2.9199 - val_accuracy: 0.1087 - val_auc: 0.4270\n",
            "Epoch 9/10\n",
            "1/1 [==============================] - 3s 3s/step\n",
            "1/1 [==============================] - 3s 3s/step\n",
            "1/1 [==============================] - 3s 3s/step\n",
            "\n",
            "Val AUC for epoch8: 0.5344537815126051\n",
            "\n",
            "Epoch 9: val_auc did not improve from 0.64286\n",
            "13/13 [==============================] - 209s 16s/step - loss: 2.0639 - accuracy: 0.6840 - auc: 0.7513 - val_loss: 2.8356 - val_accuracy: 0.0978 - val_auc: 0.5345\n",
            "Epoch 10/10\n",
            "1/1 [==============================] - 3s 3s/step\n",
            "1/1 [==============================] - 3s 3s/step\n",
            "1/1 [==============================] - 3s 3s/step\n",
            "\n",
            "Val AUC for epoch9: 0.48065476190476186\n",
            "\n",
            "Epoch 10: val_auc did not improve from 0.64286\n",
            "13/13 [==============================] - 208s 16s/step - loss: 2.0386 - accuracy: 0.6849 - auc: 0.7505 - val_loss: 2.7174 - val_accuracy: 0.0870 - val_auc: 0.4807\n"
          ]
        },
        {
          "output_type": "execute_result",
          "data": {
            "text/plain": [
              "<keras.callbacks.History at 0x7f04831ce910>"
            ]
          },
          "metadata": {},
          "execution_count": 20
        }
      ],
      "source": [
        "model = resnet.ResnetBuilder.build_resnet_18((img_channels, img_rows, img_cols), nb_classes)\n",
        "sgd = optimizers.SGD(lr=0.005)\n",
        "\n",
        "bin_weights = np.ones((2,2))\n",
        "bin_weights[1, 1] = 10\n",
        "bin_weights[1, 0] = 10\n",
        "ncce = partial(w_categorical_crossentropy, weights=bin_weights)\n",
        "ncce.__name__ ='w_categorical_crossentropy'\n",
        "\n",
        "model.compile(loss=ncce,optimizer= sgd,\n",
        "              metrics=['accuracy', 'AUC'])\n",
        "training_generator = AugmentedDataGenerator('train', ablation=50)\n",
        "validation_generator = AugmentedDataGenerator('val', ablation=50)\n",
        "\n",
        "auc_logger = roc_callback()\n",
        "filepath = 'models/best_model.hdf5'\n",
        "checkpoint = ModelCheckpoint(filepath, monitor='val_auc', verbose=1, save_best_only=True, mode='max')\n",
        "\n",
        "decay = DecayLR()\n",
        "\n",
        "model.fit(training_generator, epochs=10, validation_data=validation_generator, callbacks=[auc_logger, decay, checkpoint])"
      ]
    },
    {
      "cell_type": "markdown",
      "metadata": {
        "id": "p_Mbhyane4uK"
      },
      "source": [
        "## 5. Making a Prediction"
      ]
    },
    {
      "cell_type": "code",
      "execution_count": 21,
      "metadata": {
        "id": "rOoSKEHxe4uK"
      },
      "outputs": [],
      "source": [
        "val_model = resnet.ResnetBuilder.build_resnet_18((img_channels, img_rows, img_cols), nb_classes)\n",
        "val_model.load_weights('models/best_model.hdf5')"
      ]
    },
    {
      "cell_type": "code",
      "execution_count": 22,
      "metadata": {
        "colab": {
          "base_uri": "https://localhost:8080/",
          "height": 286
        },
        "id": "39PbkA3Ze4uM",
        "outputId": "ac4531d8-c359-4401-d05a-24611356a652"
      },
      "outputs": [
        {
          "output_type": "execute_result",
          "data": {
            "text/plain": [
              "<matplotlib.image.AxesImage at 0x7f047d655b50>"
            ]
          },
          "metadata": {},
          "execution_count": 22
        },
        {
          "output_type": "display_data",
          "data": {
            "text/plain": [
              "<Figure size 432x288 with 1 Axes>"
            ],
            "image/png": "[encoded data removed]"
          },
          "metadata": {
            "needs_background": "light"
          }
        }
      ],
      "source": [
        "effusion_path = os.path.join(DATASET_PATH, disease_cls[0], '*')\n",
        "effusion = glob.glob(effusion_path)\n",
        "effusion = io.imread(effusion[-8])\n",
        "plt.imshow(effusion,cmap='gray')"
      ]
    },
    {
      "cell_type": "code",
      "execution_count": 23,
      "metadata": {
        "colab": {
          "base_uri": "https://localhost:8080/"
        },
        "id": "GmKcu58ge4uO",
        "outputId": "bff09760-2f16-486b-eddf-baff7ea8608c"
      },
      "outputs": [
        {
          "output_type": "stream",
          "name": "stdout",
          "text": [
            "1/1 [==============================] - 0s 462ms/step\n"
          ]
        },
        {
          "output_type": "execute_result",
          "data": {
            "text/plain": [
              "array([[5.1216822e-04, 9.9948776e-01]], dtype=float32)"
            ]
          },
          "metadata": {},
          "execution_count": 23
        }
      ],
      "source": [
        "img = preprocess_img(effusion[:, :, np.newaxis], 'validation')\n",
        "val_model.predict(img[np.newaxis,:])"
      ]
    },
    {
      "cell_type": "code",
      "execution_count": 23,
      "metadata": {
        "id": "9ZH9uxhUe4uQ"
      },
      "outputs": [],
      "source": []
    }
  ],
  "metadata": {
    "anaconda-cloud": {},
    "kernelspec": {
      "display_name": "Python 3",
      "language": "python",
      "name": "python3"
    },
    "language_info": {
      "codemirror_mode": {
        "name": "ipython",
        "version": 3
      },
      "file_extension": ".py",
      "mimetype": "text/x-python",
      "name": "python",
      "nbconvert_exporter": "python",
      "pygments_lexer": "ipython3",
      "version": "3.7.4"
    },
    "colab": {
      "provenance": [],
      "include_colab_link": true
    }
  },
  "nbformat": 4,
  "nbformat_minor": 0
}